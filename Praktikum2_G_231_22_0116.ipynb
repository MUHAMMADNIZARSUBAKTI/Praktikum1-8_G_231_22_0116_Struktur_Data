{
  "nbformat": 4,
  "nbformat_minor": 0,
  "metadata": {
    "colab": {
      "provenance": []
    },
    "kernelspec": {
      "name": "python3",
      "display_name": "Python 3"
    },
    "language_info": {
      "name": "python"
    }
  },
  "cells": [
    {
      "cell_type": "code",
      "execution_count": null,
      "metadata": {
        "colab": {
          "base_uri": "https://localhost:8080/"
        },
        "id": "pBYrXyRgIGi4",
        "outputId": "c2f399d5-e57c-47af-f562-09c787b57ec0"
      },
      "outputs": [
        {
          "output_type": "stream",
          "name": "stdout",
          "text": [
            "[1, 5, 4, 2, 8, 10, 3, 12, 15]\n",
            "[1, 2, 4, 5, 8, 10, 3, 12, 15]\n",
            "[1, 2, 3, 5, 8, 10, 4, 12, 15]\n",
            "[1, 2, 3, 4, 8, 10, 5, 12, 15]\n",
            "[1, 2, 3, 4, 5, 10, 8, 12, 15]\n",
            "[1, 2, 3, 4, 5, 8, 10, 12, 15]\n",
            "[1, 2, 3, 4, 5, 8, 10, 12, 15]\n",
            "[1, 2, 3, 4, 5, 8, 10, 12, 15]\n",
            "[1, 2, 3, 4, 5, 8, 10, 12, 15]\n"
          ]
        }
      ],
      "source": [
        "# BubbleSort berkerja dengan membandingkan elemen yang berdekatan dan menukarnya jika elemen sebelah kiri lebih besar dari sebelahkanan\n",
        "# i Variabel ini dapat digunakan untuk menyimpan indeks elemen yang sedang diproses\n",
        "# min_index Variabel ini dapat digunakan untuk menyimpan indeks elemen terkecil di sub-daftar yang sedang diurutkan\n",
        "def bubbleSort(alist):\n",
        " for i in range(0,len(alist)-1):\n",
        "  min_index= i\n",
        "  for location in range(i+1,len(alist)):\n",
        "   if alist[location]<alist[min_index]:\n",
        "      min_index = location\n",
        "  temp = alist[i]\n",
        "  alist[i] = alist[min_index]\n",
        "  alist[min_index] = temp\n",
        "  print(alist)\n",
        "angka = [5,1,4,2,8,10,3,12,15]\n",
        "bubbleSort(angka)\n",
        "print(angka)"
      ]
    },
    {
      "cell_type": "code",
      "source": [
        "# membuat tuple\n",
        "angka = (1, 2, 3, 4, 5)\n",
        "\n",
        "# mengakses elemen tuple\n",
        "print(angka[0])\n",
        "# Output: 1\n",
        "\n",
        "# mengubah elemen tuple (tidak bisa)\n",
        "#angka[0] = 10\n",
        "# TypeError: 'tuple' object does not support item assignment\n",
        "\n",
        "# menggabungkan tuple\n",
        "angka1 = (1, 2, 3)\n",
        "angka2 = (4, 5, 6)\n",
        "angka3 = angka1 + angka2\n",
        "print(angka3)\n",
        "# Output: (1, 2, 3, 4, 5, 6)\n",
        "\n",
        "# memeriksa apakah elemen ada di tuple\n",
        "print(1 in angka)\n",
        "# Output: True\n",
        "\n",
        "# menghitung panjang tuple\n",
        "print(len(angka))\n",
        "# Output: 5"
      ],
      "metadata": {
        "colab": {
          "base_uri": "https://localhost:8080/"
        },
        "id": "3mkS90ipRfL-",
        "outputId": "2fd67c38-e4ed-4cb0-e6fc-1c838577494c"
      },
      "execution_count": null,
      "outputs": [
        {
          "output_type": "stream",
          "name": "stdout",
          "text": [
            "1\n",
            "(1, 2, 3, 4, 5, 6)\n",
            "True\n",
            "5\n"
          ]
        }
      ]
    },
    {
      "cell_type": "code",
      "source": [
        "# menyimpan data\n",
        "biodata = {\"nama\": \"Nizar\", \"umur\":19, \"alamat\": \"Semarang\"}\n",
        "\n",
        "# mentransfer data\n",
        "def fungsi(biodata):\n",
        "  return biodata\n",
        "\n",
        "biodata_baru = fungsi(biodata)\n",
        "print(biodata_baru)\n",
        "\n",
        "\n",
        "# mengembalikan nilai dari fungsi\n",
        "def fungsi():\n",
        "  return {\"nama\": \"Nizar\", \"umur\": 19, \"alamat\": \"Semarang\"}\n",
        "\n",
        "biodata_baru = fungsi()\n",
        "print(biodata_baru)\n",
        "\n",
        "\n",
        "# menerapkan iterasi\n",
        "for key in biodata:\n",
        "  print(f\"{key}: {biodata[key]}\")\n",
        "# Output: nama: Budi\n",
        "# Output: umur: 25\n",
        "# Output: alamat: Jakarta"
      ],
      "metadata": {
        "colab": {
          "base_uri": "https://localhost:8080/"
        },
        "id": "099lcG8mScCS",
        "outputId": "d5e4f490-3bdb-4a9e-9b6e-57f6a0f00173"
      },
      "execution_count": null,
      "outputs": [
        {
          "output_type": "stream",
          "name": "stdout",
          "text": [
            "{'nama': 'Nizar', 'umur': 19, 'alamat': 'Semarang'}\n",
            "{'nama': 'Nizar', 'umur': 19, 'alamat': 'Semarang'}\n",
            "nama: Nizar\n",
            "umur: 19\n",
            "alamat: Semarang\n"
          ]
        }
      ]
    }
  ]
}